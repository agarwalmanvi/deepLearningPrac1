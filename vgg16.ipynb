{
  "nbformat": 4,
  "nbformat_minor": 0,
  "metadata": {
    "colab": {
      "name": "vgg16.ipynb",
      "version": "0.3.2",
      "provenance": []
    },
    "kernelspec": {
      "name": "python3",
      "display_name": "Python 3"
    },
    "accelerator": "GPU"
  },
  "cells": [
    {
      "cell_type": "code",
      "metadata": {
        "id": "mj8lLID6nXnS",
        "colab_type": "code",
        "outputId": "ab3b8949-9875-48ec-bb3f-20493b5b9b33",
        "colab": {
          "base_uri": "https://localhost:8080/",
          "height": 35
        }
      },
      "source": [
        "import numpy as np\n",
        "import pandas as pd\n",
        "import matplotlib.pyplot as plt\n",
        "%matplotlib inline\n",
        "from keras.models import Sequential\n",
        "from keras.layers import Dense, Dropout, Activation, Flatten\n",
        "from keras.optimizers import SGD\n",
        "from keras.layers.normalization import BatchNormalization\n",
        "from keras.utils import np_utils\n",
        "from keras.layers import Conv2D, MaxPooling2D, ZeroPadding2D, GlobalAveragePooling2D\n",
        "from keras.layers.advanced_activations import LeakyReLU \n",
        "from keras.preprocessing.image import ImageDataGenerator\n",
        "from keras.regularizers import l2\n",
        "from mlxtend.data import loadlocal_mnist\n",
        "\n",
        "np.random.seed(10)"
      ],
      "execution_count": 0,
      "outputs": [
        {
          "output_type": "stream",
          "text": [
            "Using TensorFlow backend.\n"
          ],
          "name": "stderr"
        }
      ]
    },
    {
      "cell_type": "code",
      "metadata": {
        "id": "BTNZjK91nt36",
        "colab_type": "code",
        "colab": {}
      },
      "source": [
        "# Kuzushiji MNIST\n",
        "\n",
        "X_train, y_train = loadlocal_mnist(\n",
        "        images_path='/content/train-images-idx3-ubyte', \n",
        "        labels_path='/content/train-labels-idx1-ubyte')\n",
        "\n",
        "X_test, y_test = loadlocal_mnist(\n",
        "        images_path='/content/t10k-images-idx3-ubyte', \n",
        "        labels_path='/content/t10k-labels-idx1-ubyte')"
      ],
      "execution_count": 0,
      "outputs": []
    },
    {
      "cell_type": "code",
      "metadata": {
        "id": "lI_6mg8Qnz9s",
        "colab_type": "code",
        "colab": {}
      },
      "source": [
        "X_train = X_train.reshape(X_train.shape[0], 28, 28, 1)\n",
        "X_test = X_test.reshape(X_test.shape[0], 28, 28, 1)\n",
        "\n",
        "X_train = X_train.astype('float32')\n",
        "X_test = X_test.astype('float32')\n",
        "\n",
        "X_train/=255\n",
        "X_test/=255\n",
        "\n",
        "number_of_classes = 10\n",
        "\n",
        "Y_train = np_utils.to_categorical(y_train, number_of_classes)\n",
        "Y_test = np_utils.to_categorical(y_test, number_of_classes)"
      ],
      "execution_count": 0,
      "outputs": []
    },
    {
      "cell_type": "code",
      "metadata": {
        "id": "3fdBfMkXn8xn",
        "colab_type": "code",
        "outputId": "3419e363-4af4-46dc-dd51-0112bcdeaaa8",
        "colab": {
          "base_uri": "https://localhost:8080/",
          "height": 145
        }
      },
      "source": [
        "model = Sequential()\n",
        "\n",
        "model.add(Conv2D(32, (3, 3), input_shape=(28,28,1), activation='relu'))\n",
        "#model.add(Conv2D(32, (3, 3), activation='relu'))\n",
        "model.add(MaxPooling2D(pool_size=(2,2), strides=(1, 1)))\n",
        "\n",
        "model.add(Conv2D(64, (3, 3), activation='relu'))\n",
        "#model.add(Conv2D(64, (3, 3), activation='relu'))\n",
        "model.add(MaxPooling2D(pool_size=(2,2), strides=(1, 1)))\n",
        "\n",
        "model.add(Conv2D(128, (3, 3), activation='relu'))\n",
        "model.add(Conv2D(128, (3, 3), activation='relu'))\n",
        "#model.add(Conv2D(128, (3, 3), activation='relu'))\n",
        "model.add(MaxPooling2D(pool_size=(2,2), strides=(1, 1)))\n",
        "\n",
        "model.add(Conv2D(256, (3, 3), activation='relu'))\n",
        "model.add(Conv2D(256, (3, 3), activation='relu'))\n",
        "#model.add(Conv2D(256, (3, 3), activation='relu'))\n",
        "model.add(MaxPooling2D(pool_size=(2,2), strides=(1, 1)))\n",
        "\n",
        "model.add(Conv2D(256, (3, 3), activation='relu'))\n",
        "model.add(Conv2D(256, (3, 3), activation='relu'))\n",
        "#model.add(Conv2D(256, (3, 3), activation='relu'))\n",
        "model.add(MaxPooling2D(pool_size=(2,2), strides=(1, 1)))\n",
        "\n",
        "model.add(Flatten())\n",
        "\n",
        "model.add(Dense(512, activation='relu', kernel_regularizer=l2(0.0005), bias_regularizer=l2(0.0005)))\n",
        "model.add(Dropout(0.5))\n",
        "model.add(Dense(512, activation='relu', kernel_regularizer=l2(0.0005), bias_regularizer=l2(0.0005)))\n",
        "model.add(Dropout(0.5))\n",
        "model.add(Dense(10, activation='softmax'))"
      ],
      "execution_count": 0,
      "outputs": [
        {
          "output_type": "stream",
          "text": [
            "WARNING:tensorflow:From /usr/local/lib/python3.6/dist-packages/tensorflow/python/framework/op_def_library.py:263: colocate_with (from tensorflow.python.framework.ops) is deprecated and will be removed in a future version.\n",
            "Instructions for updating:\n",
            "Colocations handled automatically by placer.\n",
            "WARNING:tensorflow:From /usr/local/lib/python3.6/dist-packages/keras/backend/tensorflow_backend.py:3445: calling dropout (from tensorflow.python.ops.nn_ops) with keep_prob is deprecated and will be removed in a future version.\n",
            "Instructions for updating:\n",
            "Please use `rate` instead of `keep_prob`. Rate should be set to `rate = 1 - keep_prob`.\n"
          ],
          "name": "stdout"
        }
      ]
    },
    {
      "cell_type": "code",
      "metadata": {
        "id": "KKj06z1tn-WW",
        "colab_type": "code",
        "colab": {}
      },
      "source": [
        "model.compile(loss='categorical_crossentropy', optimizer=SGD(lr=0.01,momentum=0.9), metrics=['accuracy'])"
      ],
      "execution_count": 0,
      "outputs": []
    },
    {
      "cell_type": "code",
      "metadata": {
        "id": "pZ5LMR0opmks",
        "colab_type": "code",
        "outputId": "eaa73a5e-84ae-4f27-92ca-e9aeb3e72214",
        "colab": {
          "base_uri": "https://localhost:8080/",
          "height": 1909
        }
      },
      "source": [
        "history = model.fit(X_train, Y_train, batch_size=128, epochs=50, verbose=1, validation_data=(X_test, Y_test))"
      ],
      "execution_count": 0,
      "outputs": [
        {
          "output_type": "stream",
          "text": [
            "WARNING:tensorflow:From /usr/local/lib/python3.6/dist-packages/tensorflow/python/ops/math_ops.py:3066: to_int32 (from tensorflow.python.ops.math_ops) is deprecated and will be removed in a future version.\n",
            "Instructions for updating:\n",
            "Use tf.cast instead.\n",
            "Train on 60000 samples, validate on 10000 samples\n",
            "Epoch 1/50\n",
            "60000/60000 [==============================] - 63s 1ms/step - loss: 1.8936 - acc: 0.5960 - val_loss: 1.3978 - val_acc: 0.7813\n",
            "Epoch 2/50\n",
            "60000/60000 [==============================] - 55s 919us/step - loss: 0.9923 - acc: 0.9027 - val_loss: 1.1650 - val_acc: 0.8463\n",
            "Epoch 3/50\n",
            "60000/60000 [==============================] - 55s 919us/step - loss: 0.8171 - acc: 0.9396 - val_loss: 0.9063 - val_acc: 0.9060\n",
            "Epoch 4/50\n",
            "60000/60000 [==============================] - 55s 920us/step - loss: 0.7060 - acc: 0.9592 - val_loss: 0.8237 - val_acc: 0.9222\n",
            "Epoch 5/50\n",
            "60000/60000 [==============================] - 55s 918us/step - loss: 0.6312 - acc: 0.9662 - val_loss: 0.7351 - val_acc: 0.9311\n",
            "Epoch 6/50\n",
            "60000/60000 [==============================] - 55s 915us/step - loss: 0.5695 - acc: 0.9727 - val_loss: 0.7033 - val_acc: 0.9323\n",
            "Epoch 7/50\n",
            "60000/60000 [==============================] - 55s 916us/step - loss: 0.5159 - acc: 0.9768 - val_loss: 0.6312 - val_acc: 0.9406\n",
            "Epoch 8/50\n",
            "60000/60000 [==============================] - 55s 913us/step - loss: 0.4697 - acc: 0.9785 - val_loss: 0.6016 - val_acc: 0.9425\n",
            "Epoch 9/50\n",
            "60000/60000 [==============================] - 55s 914us/step - loss: 0.4240 - acc: 0.9835 - val_loss: 0.5541 - val_acc: 0.9446\n",
            "Epoch 10/50\n",
            "60000/60000 [==============================] - 55s 911us/step - loss: 0.3897 - acc: 0.9843 - val_loss: 0.5112 - val_acc: 0.9499\n",
            "Epoch 11/50\n",
            "60000/60000 [==============================] - 55s 911us/step - loss: 0.3545 - acc: 0.9871 - val_loss: 0.5008 - val_acc: 0.9478\n",
            "Epoch 12/50\n",
            "60000/60000 [==============================] - 55s 909us/step - loss: 0.3262 - acc: 0.9881 - val_loss: 0.4565 - val_acc: 0.9557\n",
            "Epoch 13/50\n",
            "60000/60000 [==============================] - 55s 909us/step - loss: 0.3005 - acc: 0.9893 - val_loss: 0.4261 - val_acc: 0.9567\n",
            "Epoch 14/50\n",
            "60000/60000 [==============================] - 54s 907us/step - loss: 0.2739 - acc: 0.9902 - val_loss: 0.4409 - val_acc: 0.9522\n",
            "Epoch 15/50\n",
            "60000/60000 [==============================] - 55s 910us/step - loss: 0.2512 - acc: 0.9914 - val_loss: 0.4086 - val_acc: 0.9563\n",
            "Epoch 16/50\n",
            "60000/60000 [==============================] - 54s 907us/step - loss: 0.2363 - acc: 0.9905 - val_loss: 0.3933 - val_acc: 0.9536\n",
            "Epoch 17/50\n",
            "60000/60000 [==============================] - 54s 904us/step - loss: 0.2175 - acc: 0.9916 - val_loss: 0.3832 - val_acc: 0.9516\n",
            "Epoch 18/50\n",
            "60000/60000 [==============================] - 54s 907us/step - loss: 0.2004 - acc: 0.9928 - val_loss: 0.3723 - val_acc: 0.9546\n",
            "Epoch 19/50\n",
            "60000/60000 [==============================] - 55s 913us/step - loss: 0.1847 - acc: 0.9935 - val_loss: 0.3460 - val_acc: 0.9572\n",
            "Epoch 20/50\n",
            "60000/60000 [==============================] - 55s 912us/step - loss: 0.1711 - acc: 0.9938 - val_loss: 0.3182 - val_acc: 0.9625\n",
            "Epoch 21/50\n",
            "60000/60000 [==============================] - 55s 911us/step - loss: 0.1578 - acc: 0.9945 - val_loss: 0.3330 - val_acc: 0.9566\n",
            "Epoch 22/50\n",
            "60000/60000 [==============================] - 55s 912us/step - loss: 0.1460 - acc: 0.9946 - val_loss: 0.3200 - val_acc: 0.9601\n",
            "Epoch 23/50\n",
            "60000/60000 [==============================] - 55s 911us/step - loss: 0.1392 - acc: 0.9939 - val_loss: 0.3056 - val_acc: 0.9590\n",
            "Epoch 24/50\n",
            "60000/60000 [==============================] - 55s 909us/step - loss: 0.1285 - acc: 0.9948 - val_loss: 0.3721 - val_acc: 0.9446\n",
            "Epoch 25/50\n",
            "60000/60000 [==============================] - 54s 908us/step - loss: 0.1189 - acc: 0.9958 - val_loss: 0.2922 - val_acc: 0.9602\n",
            "Epoch 26/50\n",
            "60000/60000 [==============================] - 55s 909us/step - loss: 0.1145 - acc: 0.9946 - val_loss: 0.2919 - val_acc: 0.9563\n",
            "Epoch 27/50\n",
            "60000/60000 [==============================] - 54s 903us/step - loss: 0.1045 - acc: 0.9962 - val_loss: 0.3118 - val_acc: 0.9547\n",
            "Epoch 28/50\n",
            "60000/60000 [==============================] - 54s 898us/step - loss: 0.0976 - acc: 0.9961 - val_loss: 0.3042 - val_acc: 0.9569\n",
            "Epoch 29/50\n",
            "60000/60000 [==============================] - 54s 898us/step - loss: 0.0943 - acc: 0.9954 - val_loss: 0.2747 - val_acc: 0.9587\n",
            "Epoch 30/50\n",
            "60000/60000 [==============================] - 54s 900us/step - loss: 0.0856 - acc: 0.9968 - val_loss: 0.2676 - val_acc: 0.9601\n",
            "Epoch 31/50\n",
            "60000/60000 [==============================] - 72s 1ms/step - loss: 0.0838 - acc: 0.9958 - val_loss: 0.2770 - val_acc: 0.9559\n",
            "Epoch 32/50\n",
            "60000/60000 [==============================] - 139s 2ms/step - loss: 0.0799 - acc: 0.9959 - val_loss: 0.2749 - val_acc: 0.9590\n",
            "Epoch 33/50\n",
            "60000/60000 [==============================] - 139s 2ms/step - loss: 0.0762 - acc: 0.9961 - val_loss: 0.2426 - val_acc: 0.9630\n",
            "Epoch 34/50\n",
            "60000/60000 [==============================] - 138s 2ms/step - loss: 0.0698 - acc: 0.9970 - val_loss: 0.2594 - val_acc: 0.9614\n",
            "Epoch 35/50\n",
            "60000/60000 [==============================] - 139s 2ms/step - loss: 0.0656 - acc: 0.9973 - val_loss: 0.2398 - val_acc: 0.9636\n",
            "Epoch 36/50\n",
            "60000/60000 [==============================] - 139s 2ms/step - loss: 0.0619 - acc: 0.9972 - val_loss: 0.2371 - val_acc: 0.9612\n",
            "Epoch 37/50\n",
            "60000/60000 [==============================] - 139s 2ms/step - loss: 0.0606 - acc: 0.9968 - val_loss: 0.2393 - val_acc: 0.9620\n",
            "Epoch 38/50\n",
            "60000/60000 [==============================] - 138s 2ms/step - loss: 0.0544 - acc: 0.9980 - val_loss: 0.2338 - val_acc: 0.9650\n",
            "Epoch 39/50\n",
            "60000/60000 [==============================] - 139s 2ms/step - loss: 0.0555 - acc: 0.9967 - val_loss: 0.2355 - val_acc: 0.9626\n",
            "Epoch 40/50\n",
            "60000/60000 [==============================] - 139s 2ms/step - loss: 0.0516 - acc: 0.9975 - val_loss: 0.2233 - val_acc: 0.9610\n",
            "Epoch 41/50\n",
            "60000/60000 [==============================] - 139s 2ms/step - loss: 0.0518 - acc: 0.9970 - val_loss: 0.2186 - val_acc: 0.9635\n",
            "Epoch 42/50\n",
            "60000/60000 [==============================] - 139s 2ms/step - loss: 0.0503 - acc: 0.9969 - val_loss: 0.2328 - val_acc: 0.9628\n",
            "Epoch 43/50\n",
            "60000/60000 [==============================] - 138s 2ms/step - loss: 0.0478 - acc: 0.9972 - val_loss: 0.2383 - val_acc: 0.9623\n",
            "Epoch 44/50\n",
            "60000/60000 [==============================] - 139s 2ms/step - loss: 0.0450 - acc: 0.9974 - val_loss: 0.2389 - val_acc: 0.9590\n",
            "Epoch 45/50\n",
            "60000/60000 [==============================] - 139s 2ms/step - loss: 0.0427 - acc: 0.9979 - val_loss: 0.2093 - val_acc: 0.9662\n",
            "Epoch 46/50\n",
            "60000/60000 [==============================] - 139s 2ms/step - loss: 0.0456 - acc: 0.9968 - val_loss: 0.2234 - val_acc: 0.9632\n",
            "Epoch 47/50\n",
            "60000/60000 [==============================] - 138s 2ms/step - loss: 0.0398 - acc: 0.9979 - val_loss: 0.2169 - val_acc: 0.9650\n",
            "Epoch 48/50\n",
            "60000/60000 [==============================] - 139s 2ms/step - loss: 0.0420 - acc: 0.9973 - val_loss: 0.2134 - val_acc: 0.9641\n",
            "Epoch 49/50\n",
            "60000/60000 [==============================] - 139s 2ms/step - loss: 0.0349 - acc: 0.9989 - val_loss: 0.2331 - val_acc: 0.9618\n",
            "Epoch 50/50\n",
            "60000/60000 [==============================] - 139s 2ms/step - loss: 0.0364 - acc: 0.9980 - val_loss: 0.2351 - val_acc: 0.9654\n"
          ],
          "name": "stdout"
        }
      ]
    },
    {
      "cell_type": "code",
      "metadata": {
        "id": "cB5wYYhHoBDu",
        "colab_type": "code",
        "outputId": "767e41bd-7df9-46fa-e550-5018855434b1",
        "colab": {
          "base_uri": "https://localhost:8080/",
          "height": 35
        }
      },
      "source": [
        "score = model.evaluate(X_test, Y_test)"
      ],
      "execution_count": 0,
      "outputs": [
        {
          "output_type": "stream",
          "text": [
            "10000/10000 [==============================] - 13s 1ms/step\n"
          ],
          "name": "stdout"
        }
      ]
    },
    {
      "cell_type": "code",
      "metadata": {
        "id": "UEP3YZsFoDUV",
        "colab_type": "code",
        "colab": {}
      },
      "source": [
        "loss_history = history.history['loss']\n",
        "accuracy_history = history.history['acc']\n",
        "val_loss_history = history.history['val_loss']\n",
        "val_accuracy_history = history.history['val_acc']\n",
        "\n",
        "import csv\n",
        "\n",
        "with open('vgg-16.csv', \"w\") as outfile:\n",
        "    outfile.write(\"loss,accuracy,val_loss,val_acc\")\n",
        "    outfile.write(\"\\n\")\n",
        "    for ind in range(len(loss_history)):\n",
        "        outfile.write(str(loss_history[ind])+','+str(accuracy_history[ind])+','+str(val_loss_history[ind])+','+str(val_accuracy_history[ind]))\n",
        "        outfile.write(\"\\n\")\n",
        "        \n",
        "with open('vgg-16-modelevaluate.csv', \"w\") as outfile:\n",
        "    outfile.write(\"loss,\")\n",
        "    outfile.write(\"accuracy\")\n",
        "    outfile.write(\"\\n\")\n",
        "    outfile.write(str(score[0])+',')\n",
        "    outfile.write(str(score[1]))\n",
        "    outfile.write(\"\\n\")"
      ],
      "execution_count": 0,
      "outputs": []
    }
  ]
}